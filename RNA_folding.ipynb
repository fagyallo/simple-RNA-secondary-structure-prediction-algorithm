{
 "cells": [
  {
   "cell_type": "code",
   "execution_count": 165,
   "metadata": {},
   "outputs": [],
   "source": [
    "import numpy as np\n",
    "import pandas as pd"
   ]
  },
  {
   "cell_type": "code",
   "execution_count": 258,
   "metadata": {},
   "outputs": [],
   "source": [
    "def bif(S,i,j):\n",
    "    bif=[]\n",
    "    for k in range(i,j):\n",
    "        bif.append(S[i][k]+S[k+1][j])\n",
    "    return max(bif)\n",
    "\n",
    "def base_pair(X):\n",
    "    if X==\"A\": return 'U'\n",
    "    elif X=='U': return 'A'\n",
    "    elif X=='C': return 'G'\n",
    "    elif X=='G': return 'C'\n",
    "    else: return\n",
    "\n",
    "def RNAfolding_primer(sequence):\n",
    "    seq=[*sequence]\n",
    "    L=len(seq)\n",
    "    S=np.zeros((L,L))\n",
    "    structure=['.'for i in range(L)]\n",
    "    for h in range(L):\n",
    "        for i in range(L)[:-h][::-1]:\n",
    "            j=i+h\n",
    "\n",
    "            b1,b2=seq[i],seq[j]\n",
    "            if b2==base_pair(b1):\n",
    "                S[i][j]=+1\n",
    "                a=[S[i+1][j],S[i][j-1],S[i+1][j-1]+1,bif(S,i,j)]\n",
    "                S[i][j]=max(a)\n",
    "                if max(a)==a[-1]:\n",
    "                    structure[j]=')'\n",
    "                    structure[L-j]='('\n",
    "            else: S[i][j]=max(S[i+1][j],S[i][j-1],bif(S,i,j))\n",
    "    Sp=pd.DataFrame(S,index=seq,columns=seq)\n",
    "    out=''\n",
    "    for i in structure:\n",
    "        out=out+i\n",
    "    return out"
   ]
  },
  {
   "cell_type": "code",
   "execution_count": 259,
   "metadata": {
    "scrolled": true
   },
   "outputs": [
    {
     "data": {
      "text/plain": [
       "'.(((..)))'"
      ]
     },
     "execution_count": 259,
     "metadata": {},
     "output_type": "execute_result"
    }
   ],
   "source": [
    "RNAfolding_primer('GGGAAAUCC')"
   ]
  },
  {
   "cell_type": "code",
   "execution_count": 261,
   "metadata": {},
   "outputs": [
    {
     "data": {
      "text/plain": [
       "'.((((.().))))'"
      ]
     },
     "execution_count": 261,
     "metadata": {},
     "output_type": "execute_result"
    }
   ],
   "source": [
    "RNAfolding_primer('ACUCGAUUCCGAG')"
   ]
  },
  {
   "cell_type": "code",
   "execution_count": null,
   "metadata": {},
   "outputs": [],
   "source": [
    "        A\n",
    "        G - A\n",
    "    G           A\n",
    "        C - U\n",
    "        A - G\n",
    "        A - C\n",
    "         A\n",
    "            \n",
    "        A\n",
    "        G\n",
    "        G - U \n",
    "        C - G\n",
    "      A         C   \n",
    "         A    A\n",
    "           "
   ]
  }
 ],
 "metadata": {
  "kernelspec": {
   "display_name": "Python 3",
   "language": "python",
   "name": "python3"
  },
  "language_info": {
   "codemirror_mode": {
    "name": "ipython",
    "version": 3
   },
   "file_extension": ".py",
   "mimetype": "text/x-python",
   "name": "python",
   "nbconvert_exporter": "python",
   "pygments_lexer": "ipython3",
   "version": "3.8.3"
  }
 },
 "nbformat": 4,
 "nbformat_minor": 4
}
